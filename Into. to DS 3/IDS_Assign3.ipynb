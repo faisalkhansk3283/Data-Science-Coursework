{
 "cells": [
  {
   "cell_type": "code",
   "execution_count": 63,
   "id": "b33be467-092a-486d-8342-5cc29523b6b3",
   "metadata": {},
   "outputs": [],
   "source": [
    "#To Create collection and Database\n",
    "\n",
    "import pymongo \n",
    "from pymongo import MongoClient\n",
    "import json\n",
    "myclient = pymongo.MongoClient(\"mongodb://127.0.0.1:27017\")\n",
    "\n",
    "db = myclient[\"MovieDatabase1\"]\n",
    "#mycollection = mydb[\"myMovies\"]"
   ]
  },
  {
   "cell_type": "code",
   "execution_count": 64,
   "id": "60a7f24e-3a8b-4848-968b-802669216250",
   "metadata": {},
   "outputs": [],
   "source": [
    "movies_collection = db[\"movies\"]\n",
    "ratings_collection = db[\"ratings\"]\n",
    "tags_collection = db[\"tags\"]"
   ]
  },
  {
   "cell_type": "code",
   "execution_count": 65,
   "id": "f10d6ddc-f6c7-4e60-89cb-58ef935edaaf",
   "metadata": {},
   "outputs": [
    {
     "data": {
      "text/plain": [
       "<pymongo.results.InsertManyResult at 0x16e52059740>"
      ]
     },
     "execution_count": 65,
     "metadata": {},
     "output_type": "execute_result"
    }
   ],
   "source": [
    "import pandas as pd\n",
    "\n",
    "# Load CSV files into Pandas dataframes\n",
    "movies_data = pd.read_csv('movies.csv')\n",
    "ratings_data = pd.read_csv('ratings.csv')\n",
    "tags_data = pd.read_csv('tags.csv')\n",
    "\n",
    "# Convert dataframes to JSON and insert into MongoDB collections\n",
    "movies_collection.insert_many(movies_data.to_dict('records'))\n",
    "ratings_collection.insert_many(ratings_data.to_dict('records'))\n",
    "tags_collection.insert_many(tags_data.to_dict('records'))\n"
   ]
  },
  {
   "cell_type": "code",
   "execution_count": 66,
   "id": "7aefab0e-8831-44d6-9b1d-73541e332188",
   "metadata": {},
   "outputs": [
    {
     "name": "stdout",
     "output_type": "stream",
     "text": [
      "{'_id': ObjectId('6566967771272cca11ba38a6'), 'movieId': 1, 'title': 'Toy Story (1995)', 'genres': 'Adventure|Animation|Children|Comedy|Fantasy'}\n",
      "{'_id': ObjectId('6566967771272cca11ba38a7'), 'movieId': 2, 'title': 'Jumanji (1995)', 'genres': 'Adventure|Children|Fantasy'}\n",
      "{'_id': ObjectId('6566967771272cca11ba38a8'), 'movieId': 3, 'title': 'Grumpier Old Men (1995)', 'genres': 'Comedy|Romance'}\n",
      "{'_id': ObjectId('6566967771272cca11ba38a9'), 'movieId': 4, 'title': 'Waiting to Exhale (1995)', 'genres': 'Comedy|Drama|Romance'}\n",
      "{'_id': ObjectId('6566967771272cca11ba38aa'), 'movieId': 5, 'title': 'Father of the Bride Part II (1995)', 'genres': 'Comedy'}\n"
     ]
    }
   ],
   "source": [
    "for movie in movies_collection.find()[:5]:\n",
    "    print(movie)"
   ]
  },
  {
   "cell_type": "code",
   "execution_count": 67,
   "id": "22ae247a-5736-488a-9d3b-8401510836f5",
   "metadata": {},
   "outputs": [],
   "source": [
    "num_movies = db[\"movies\"].count_documents({})"
   ]
  },
  {
   "cell_type": "code",
   "execution_count": 68,
   "id": "63c960ec-c397-440d-b295-9ea591356e25",
   "metadata": {},
   "outputs": [
    {
     "data": {
      "text/plain": [
       "9742"
      ]
     },
     "execution_count": 68,
     "metadata": {},
     "output_type": "execute_result"
    }
   ],
   "source": [
    "num_movies"
   ]
  },
  {
   "cell_type": "code",
   "execution_count": 69,
   "id": "8be2c17f-5b6d-4fc2-b44a-3b13a72ca586",
   "metadata": {},
   "outputs": [
    {
     "name": "stdout",
     "output_type": "stream",
     "text": [
      "9742\n"
     ]
    }
   ],
   "source": [
    "i=0\n",
    "for movie in movies_collection.find():\n",
    "    i=i+1\n",
    "print(i)"
   ]
  },
  {
   "cell_type": "code",
   "execution_count": 70,
   "id": "22aec08f-9ca9-43f2-b940-03a0f55bfdc8",
   "metadata": {},
   "outputs": [
    {
     "data": {
      "text/plain": [
       "<pymongo.results.InsertManyResult at 0x16e49ca3f40>"
      ]
     },
     "execution_count": 70,
     "metadata": {},
     "output_type": "execute_result"
    }
   ],
   "source": [
    "#adding 5 movies to the database that are last watched, having property: movieId, title, genres\n",
    "\n",
    "new_5movies=[{\"movieId\": 200000, \"title\": \"Pathan (2023)\", \"genres\": \"Action|Sci-Fi|Thriller\"},\n",
    "            {\"movieId\": 200001, \"title\": \"Tiger 3 (2023)\", \"genres\": \"Action|Sci-Fi|Thriller\"},\n",
    "            {\"movieId\": 200002, \"title\": \"Tu Jhooti Main Makkar (2023)\", \"genres\": \"Comedy|Romance\"},\n",
    "            {\"movieId\": 200003, \"title\": \"Raaz 3 (2012)\", \"genres\": \"Horror|Thriller\"},\n",
    "            {\"movieId\": 200004, \"title\": \"Dunki (2023)\", \"genres\": \"Adventure|Drama\"}]\n",
    "            \n",
    "          \n",
    "\n",
    "movies_collection.insert_many(new_5movies)"
   ]
  },
  {
   "cell_type": "code",
   "execution_count": 71,
   "id": "613b7c59-0763-416f-812f-4e05cd0d5c6e",
   "metadata": {},
   "outputs": [
    {
     "name": "stdout",
     "output_type": "stream",
     "text": [
      "{'_id': ObjectId('6566967971272cca11bbf6fb'), 'movieId': 200000, 'title': 'Pathan (2023)', 'genres': 'Action|Sci-Fi|Thriller'}\n",
      "{'_id': ObjectId('6566967971272cca11bbf6fc'), 'movieId': 200001, 'title': 'Tiger 3 (2023)', 'genres': 'Action|Sci-Fi|Thriller'}\n",
      "{'_id': ObjectId('6566967971272cca11bbf6fd'), 'movieId': 200002, 'title': 'Tu Jhooti Main Makkar (2023)', 'genres': 'Comedy|Romance'}\n",
      "{'_id': ObjectId('6566967971272cca11bbf6fe'), 'movieId': 200003, 'title': 'Raaz 3 (2012)', 'genres': 'Horror|Thriller'}\n",
      "{'_id': ObjectId('6566967971272cca11bbf6ff'), 'movieId': 200004, 'title': 'Dunki (2023)', 'genres': 'Adventure|Drama'}\n"
     ]
    }
   ],
   "source": [
    "for movie in movies_collection.find()[9742:]:\n",
    "    print(movie)"
   ]
  },
  {
   "cell_type": "code",
   "execution_count": 72,
   "id": "e5a090c1-4696-4ee5-8ce1-da4eb4949cab",
   "metadata": {},
   "outputs": [
    {
     "data": {
      "text/plain": [
       "<pymongo.results.InsertManyResult at 0x16e4f6882c0>"
      ]
     },
     "execution_count": 72,
     "metadata": {},
     "output_type": "execute_result"
    }
   ],
   "source": [
    "#adding 5 movies ratings to the database where movies are inserted, having property: userId, movieId, rating\n",
    "\n",
    "new_5movies_rating=[{\"userId\":210000, \"movieId\": 200000, \"rating\":5 },\n",
    "                    {\"userId\":210001, \"movieId\": 200001, \"rating\":4 },\n",
    "                    {\"userId\":210002, \"movieId\": 200002, \"rating\":2 },\n",
    "                    {\"userId\":210003, \"movieId\": 200003, \"rating\":3 },\n",
    "                    {\"userId\":210004, \"movieId\": 200004, \"rating\":5 },\n",
    "                   ]\n",
    "            \n",
    "          \n",
    "\n",
    "ratings_collection.insert_many(new_5movies_rating)"
   ]
  },
  {
   "cell_type": "code",
   "execution_count": 73,
   "id": "2f13e9da-418d-47b0-a6df-2a885b9fcae5",
   "metadata": {},
   "outputs": [
    {
     "name": "stdout",
     "output_type": "stream",
     "text": [
      "100841\n"
     ]
    }
   ],
   "source": [
    "num_ratings = db[\"ratings\"].count_documents({})\n",
    "print(num_ratings)"
   ]
  },
  {
   "cell_type": "code",
   "execution_count": 74,
   "id": "38a91e8d-0ea1-46ae-87cf-9520970bfcff",
   "metadata": {},
   "outputs": [
    {
     "name": "stdout",
     "output_type": "stream",
     "text": [
      "{'_id': ObjectId('6566967971272cca11bbf700'), 'userId': 210000, 'movieId': 200000, 'rating': 5}\n",
      "{'_id': ObjectId('6566967971272cca11bbf701'), 'userId': 210001, 'movieId': 200001, 'rating': 4}\n",
      "{'_id': ObjectId('6566967971272cca11bbf702'), 'userId': 210002, 'movieId': 200002, 'rating': 2}\n",
      "{'_id': ObjectId('6566967971272cca11bbf703'), 'userId': 210003, 'movieId': 200003, 'rating': 3}\n",
      "{'_id': ObjectId('6566967971272cca11bbf704'), 'userId': 210004, 'movieId': 200004, 'rating': 5}\n"
     ]
    }
   ],
   "source": [
    "for movie in ratings_collection.find()[100836:]:\n",
    "    print(movie)"
   ]
  },
  {
   "cell_type": "code",
   "execution_count": 75,
   "id": "1245e140-dd00-45b2-a9cf-f3dd95afa6c9",
   "metadata": {},
   "outputs": [
    {
     "data": {
      "text/plain": [
       "<pymongo.results.InsertManyResult at 0x16e5206ddc0>"
      ]
     },
     "execution_count": 75,
     "metadata": {},
     "output_type": "execute_result"
    }
   ],
   "source": [
    "#adding 5 movies ratings tags to the database where movies are inserted, having property: userId, movieId, tag\n",
    "\n",
    "new_5movies_rating_tag=[{\"userId\":210000, \"movieId\": 200000, \"tag\":\"Agent\" },\n",
    "                    {\"userId\":210000, \"movieId\": 200000, \"tag\":\"RAW\" },\n",
    "                    {\"userId\":210001, \"movieId\": 200001, \"tag\":\"RAW\" },\n",
    "                    {\"userId\":210002, \"movieId\": 200002, \"tag\":\"Hero\" },\n",
    "                    {\"userId\":210003, \"movieId\": 200003, \"tag\":\"Emraan\" },\n",
    "                    {\"userId\":210004, \"movieId\": 200004, \"tag\":\"SRK\" },\n",
    "                   ]\n",
    "            \n",
    "          \n",
    "\n",
    "tags_collection.insert_many(new_5movies_rating_tag)"
   ]
  },
  {
   "cell_type": "code",
   "execution_count": 76,
   "id": "cfcd1952-411d-4ec4-a143-ce97436f4cef",
   "metadata": {},
   "outputs": [
    {
     "name": "stdout",
     "output_type": "stream",
     "text": [
      "3689\n"
     ]
    }
   ],
   "source": [
    "num_tags = db[\"tags\"].count_documents({})\n",
    "print(num_tags)"
   ]
  },
  {
   "cell_type": "code",
   "execution_count": 77,
   "id": "c87e0c0b-98bc-48c4-989d-889b17034381",
   "metadata": {},
   "outputs": [
    {
     "name": "stdout",
     "output_type": "stream",
     "text": [
      "{'_id': ObjectId('6566967971272cca11bbf705'), 'userId': 210000, 'movieId': 200000, 'tag': 'Agent'}\n",
      "{'_id': ObjectId('6566967971272cca11bbf706'), 'userId': 210000, 'movieId': 200000, 'tag': 'RAW'}\n",
      "{'_id': ObjectId('6566967971272cca11bbf707'), 'userId': 210001, 'movieId': 200001, 'tag': 'RAW'}\n",
      "{'_id': ObjectId('6566967971272cca11bbf708'), 'userId': 210002, 'movieId': 200002, 'tag': 'Hero'}\n",
      "{'_id': ObjectId('6566967971272cca11bbf709'), 'userId': 210003, 'movieId': 200003, 'tag': 'Emraan'}\n",
      "{'_id': ObjectId('6566967971272cca11bbf70a'), 'userId': 210004, 'movieId': 200004, 'tag': 'SRK'}\n"
     ]
    }
   ],
   "source": [
    "for movie in tags_collection.find()[3683:]:\n",
    "    print(movie)"
   ]
  },
  {
   "cell_type": "code",
   "execution_count": 78,
   "id": "4410492b-1f29-472a-995e-1a1f4068c9f2",
   "metadata": {},
   "outputs": [
    {
     "name": "stdout",
     "output_type": "stream",
     "text": [
      "{'_id': '1940', 'movies': 25}\n",
      "{'_id': '1957', 'movies': 33}\n",
      "{'_id': '1938', 'movies': 15}\n",
      "{'_id': '1975', 'movies': 42}\n",
      "{'_id': '1983', 'movies': 83}\n",
      "{'_id': '1947', 'movies': 20}\n",
      "{'_id': '1998', 'movies': 256}\n",
      "{'_id': '1988', 'movies': 164}\n",
      "{'_id': '2006', 'movies': 296}\n",
      "{'_id': '1966', 'movies': 42}\n",
      "{'_id': '2014', 'movies': 278}\n",
      "{'_id': '1937', 'movies': 16}\n",
      "{'_id': '2023', 'movies': 4}\n",
      "{'_id': '1908', 'movies': 1}\n",
      "{'_id': '2011', 'movies': 254}\n",
      "{'_id': '1919', 'movies': 1}\n",
      "{'_id': '1945', 'movies': 17}\n",
      "{'_id': '1923', 'movies': 4}\n",
      "{'_id': '2005', 'movies': 272}\n",
      "{'_id': '1996', 'movies': 275}\n",
      "{'_id': '1492', 'movies': 1}\n",
      "{'_id': '1916', 'movies': 4}\n",
      "{'_id': '2000', 'movies': 290}\n",
      "{'_id': '1915', 'movies': 1}\n",
      "{'_id': '1408', 'movies': 1}\n",
      "{'_id': '3000', 'movies': 3}\n",
      "{'_id': '1925', 'movies': 4}\n",
      "{'_id': '1953', 'movies': 30}\n",
      "{'_id': '1924', 'movies': 5}\n",
      "{'_id': '1948', 'movies': 20}\n",
      "{'_id': '1936', 'movies': 18}\n",
      "{'_id': '2001', 'movies': 295}\n",
      "{'_id': '1903', 'movies': 1}\n",
      "{'_id': '1999', 'movies': 261}\n",
      "{'_id': '1987', 'movies': 152}\n",
      "{'_id': '1946', 'movies': 23}\n",
      "{'_id': '1922', 'movies': 1}\n",
      "{'_id': '2013', 'movies': 238}\n",
      "{'_id': '1985', 'movies': 127}\n",
      "{'_id': '1902', 'movies': 1}\n",
      "{'_id': '1971', 'movies': 46}\n",
      "{'_id': '1974', 'movies': 44}\n",
      "{'_id': '1991', 'movies': 147}\n",
      "{'_id': '1600', 'movies': 1}\n",
      "{'_id': '1930', 'movies': 5}\n",
      "{'_id': '1941', 'movies': 19}\n",
      "{'_id': '1931', 'movies': 14}\n",
      "{'_id': '2008', 'movies': 269}\n",
      "{'_id': '1927', 'movies': 7}\n",
      "{'_id': '1956', 'movies': 30}\n",
      "{'_id': '2015', 'movies': 274}\n",
      "{'_id': '1980', 'movies': 89}\n",
      "{'_id': '1962', 'movies': 40}\n",
      "{'_id': '2018', 'movies': 42}\n",
      "{'_id': '1926', 'movies': 5}\n",
      "{'_id': '1932', 'movies': 9}\n",
      "{'_id': '1000', 'movies': 1}\n",
      "{'_id': '1994', 'movies': 237}\n",
      "{'_id': '1982', 'movies': 87}\n",
      "{'_id': '1960', 'movies': 37}\n",
      "{'_id': '1954', 'movies': 23}\n",
      "{'_id': '2004', 'movies': 277}\n",
      "{'_id': '1981', 'movies': 92}\n",
      "{'_id': '1934', 'movies': 11}\n",
      "{'_id': '2002', 'movies': 310}\n",
      "{'_id': '1943', 'movies': 10}\n",
      "{'_id': '2003', 'movies': 278}\n",
      "{'_id': '1976', 'movies': 42}\n",
      "{'_id': '1952', 'movies': 16}\n",
      "{'_id': '1961', 'movies': 34}\n",
      "{'_id': '1928', 'movies': 4}\n",
      "{'_id': '1990', 'movies': 147}\n",
      "{'_id': '1967', 'movies': 42}\n",
      "{'_id': '1900', 'movies': 2}\n",
      "{'_id': '1968', 'movies': 41}\n",
      "{'_id': '2049', 'movies': 1}\n",
      "{'_id': '1949', 'movies': 25}\n",
      "{'_id': '2048', 'movies': 1}\n",
      "{'_id': '1933', 'movies': 12}\n",
      "{'_id': '1995', 'movies': 259}\n",
      "{'_id': '1950', 'movies': 21}\n",
      "{'_id': '1992', 'movies': 165}\n",
      "{'_id': '1978', 'movies': 59}\n",
      "{'_id': '1965', 'movies': 47}\n",
      "{'_id': '1929', 'movies': 4}\n",
      "{'_id': '2016', 'movies': 218}\n",
      "{'_id': '1972', 'movies': 39}\n",
      "{'_id': '1979', 'movies': 68}\n",
      "{'_id': '2010', 'movies': 248}\n",
      "{'_id': '1969', 'movies': 36}\n",
      "{'_id': '1977', 'movies': 63}\n",
      "{'_id': '1939', 'movies': 23}\n",
      "{'_id': '1963', 'movies': 39}\n",
      "{'_id': None, 'movies': 12}\n",
      "{'_id': '2012', 'movies': 236}\n",
      "{'_id': '1986', 'movies': 139}\n",
      "{'_id': '1921', 'movies': 1}\n",
      "{'_id': '1989', 'movies': 142}\n",
      "{'_id': '1973', 'movies': 59}\n",
      "{'_id': '1920', 'movies': 2}\n",
      "{'_id': '1955', 'movies': 36}\n",
      "{'_id': '1951', 'movies': 22}\n",
      "{'_id': '2009', 'movies': 281}\n",
      "{'_id': '1917', 'movies': 1}\n",
      "{'_id': '1984', 'movies': 99}\n",
      "{'_id': '1944', 'movies': 16}\n",
      "{'_id': '1776', 'movies': 1}\n",
      "{'_id': '1138', 'movies': 1}\n",
      "{'_id': '2017', 'movies': 144}\n",
      "{'_id': '2007', 'movies': 283}\n",
      "{'_id': '2046', 'movies': 1}\n",
      "{'_id': '1964', 'movies': 43}\n",
      "{'_id': '1993', 'movies': 198}\n",
      "{'_id': '1958', 'movies': 31}\n",
      "{'_id': '1935', 'movies': 13}\n",
      "{'_id': '1970', 'movies': 33}\n",
      "{'_id': '1959', 'movies': 37}\n",
      "{'_id': '1997', 'movies': 259}\n",
      "{'_id': '1942', 'movies': 23}\n"
     ]
    }
   ],
   "source": [
    "#code to find number of movies released per year\n",
    "movie_year=movies_collection.aggregate([\n",
    "    {\n",
    "        \"$project\":{\n",
    "            \"split_year\":{\n",
    "                \"$regexFind\":{ \"input\": \"$title\",\"regex\":\"[0-9]{4}\"}\n",
    "            }\n",
    "        }\n",
    "    },\n",
    "    {\"$group\": {\"_id\": \"$split_year.match\", \"movies\" : {\"$sum\" : 1}} \n",
    "        \n",
    "    }\n",
    "])\n",
    "for movie in movie_year:\n",
    "    print(movie)"
   ]
  },
  {
   "cell_type": "code",
   "execution_count": 79,
   "id": "6d51c839-9047-4e99-9da2-355cbfcb4a55",
   "metadata": {},
   "outputs": [
    {
     "name": "stdout",
     "output_type": "stream",
     "text": [
      "{'_id': {'genre': 'IMAX'}, 'movies_per_genre': 158}\n",
      "{'_id': {'genre': 'Film-Noir'}, 'movies_per_genre': 87}\n",
      "{'_id': {'genre': 'Documentary'}, 'movies_per_genre': 440}\n",
      "{'_id': {'genre': 'War'}, 'movies_per_genre': 382}\n",
      "{'_id': {'genre': 'Western'}, 'movies_per_genre': 167}\n",
      "{'_id': {'genre': 'Action'}, 'movies_per_genre': 1830}\n",
      "{'_id': {'genre': 'Thriller'}, 'movies_per_genre': 1897}\n",
      "{'_id': {'genre': 'Adventure'}, 'movies_per_genre': 1264}\n",
      "{'_id': {'genre': 'Romance'}, 'movies_per_genre': 1597}\n",
      "{'_id': {'genre': 'Fantasy'}, 'movies_per_genre': 779}\n",
      "{'_id': {'genre': 'Crime'}, 'movies_per_genre': 1199}\n",
      "{'_id': {'genre': '(no genres listed)'}, 'movies_per_genre': 34}\n",
      "{'_id': {'genre': 'Children'}, 'movies_per_genre': 664}\n",
      "{'_id': {'genre': 'Comedy'}, 'movies_per_genre': 3757}\n",
      "{'_id': {'genre': 'Sci-Fi'}, 'movies_per_genre': 982}\n",
      "{'_id': {'genre': 'Animation'}, 'movies_per_genre': 611}\n",
      "{'_id': {'genre': 'Drama'}, 'movies_per_genre': 4362}\n",
      "{'_id': {'genre': 'Mystery'}, 'movies_per_genre': 573}\n",
      "{'_id': {'genre': 'Horror'}, 'movies_per_genre': 979}\n",
      "{'_id': {'genre': 'Musical'}, 'movies_per_genre': 334}\n"
     ]
    }
   ],
   "source": [
    "# code to find number of movies per genre\n",
    "genre_split =movies_collection.aggregate(\n",
    "   [\n",
    "      {\n",
    "       \"$project\":\n",
    "          {\n",
    "            \"_id\": 0,\n",
    "            \"genre_data\": { \"$split\": [ \"$genres\", \"|\" ] }\n",
    "          }},\n",
    "         {\n",
    "             \"$unwind\":\"$genre_data\"\n",
    "         },\n",
    "          {\n",
    "              \"$group\":\n",
    "          {\n",
    "              \"_id\":{ \"genre\": \"$genre_data\"} , \"movies_per_genre\" : { \"$sum\" : 1}\n",
    "          }\n",
    "          }\n",
    "    \n",
    "   ]\n",
    ")\n",
    "\n",
    "for genre in genre_split:\n",
    "    print(genre)"
   ]
  },
  {
   "cell_type": "code",
   "execution_count": 80,
   "id": "c5d862a2-0364-40f7-a5b2-ebbabd451e07",
   "metadata": {},
   "outputs": [
    {
     "name": "stdout",
     "output_type": "stream",
     "text": [
      "{'_id': {'rating': 5.0}, 'ratings': 13213}\n",
      "{'_id': {'rating': 4.5}, 'ratings': 8551}\n",
      "{'_id': {'rating': 4.0}, 'ratings': 26819}\n",
      "{'_id': {'rating': 2.5}, 'ratings': 5550}\n",
      "{'_id': {'rating': 1.0}, 'ratings': 2811}\n",
      "{'_id': {'rating': 1.5}, 'ratings': 1791}\n",
      "{'_id': {'rating': 2.0}, 'ratings': 7552}\n",
      "{'_id': {'rating': 0.5}, 'ratings': 1370}\n",
      "{'_id': {'rating': 3.0}, 'ratings': 20048}\n",
      "{'_id': {'rating': 3.5}, 'ratings': 13136}\n"
     ]
    }
   ],
   "source": [
    "#code to find number of movies per rating\n",
    "movie_ratings=ratings_collection.aggregate(\n",
    "    [{\n",
    "      \"$group\" :  \n",
    "            {\"_id\" :{\"rating\" :\"$rating\"},  \n",
    "         \"ratings\" : {\"$sum\" : 1} \n",
    "         }\n",
    "    }\n",
    "        \n",
    "    ]\n",
    ")\n",
    "\n",
    "for movierating in movie_ratings:\n",
    "    print(movierating)\n"
   ]
  },
  {
   "cell_type": "code",
   "execution_count": 81,
   "id": "f62dc58d-4a91-4982-b5fa-d4c3d284b607",
   "metadata": {},
   "outputs": [
    {
     "name": "stdout",
     "output_type": "stream",
     "text": [
      "{'total tags': 1577}\n"
     ]
    }
   ],
   "source": [
    "#code to find number of movies tagged\n",
    "no_of_tags=tags_collection.aggregate([\n",
    "     {\n",
    "    \"$group\" : \n",
    "        {\"_id\" : \"$movieId\",  \n",
    "         \"total\" : {\"$sum\" : 1},\n",
    "         }\n",
    "         },\n",
    "     {\n",
    "        \"$count\": \"total tags\"\n",
    "     }\n",
    "])\n",
    "\n",
    "\n",
    "for tag in no_of_tags:\n",
    "    print(tag)"
   ]
  },
  {
   "cell_type": "code",
   "execution_count": 82,
   "id": "9dafface-8563-477c-8aee-367ca189bbaf",
   "metadata": {},
   "outputs": [
    {
     "name": "stdout",
     "output_type": "stream",
     "text": [
      "{'_id': 'In Netflix queue', 'count': 131}\n"
     ]
    }
   ],
   "source": [
    "#code to find the most popular tag\n",
    "pipeline = [\n",
    "    {\"$group\": {\"_id\": \"$movieId\", \"totalTags\": {\"$sum\": 1}, \"tags\": {\"$push\": \"$tag\"}}},\n",
    "    {\"$unwind\": \"$tags\"},\n",
    "    {\"$group\": {\"_id\": \"$tags\", \"count\": {\"$sum\": 1}}},\n",
    "    {\"$sort\": {\"count\": -1}},\n",
    "    {\"$limit\": 1}\n",
    "]\n",
    "\n",
    "popular_tag = list(tags_collection.aggregate(pipeline))\n",
    "print(popular_tag[0])\n",
    "\n",
    "\n"
   ]
  },
  {
   "cell_type": "code",
   "execution_count": null,
   "id": "05cace6f-255f-4d54-9c58-b2d49720e5d2",
   "metadata": {},
   "outputs": [],
   "source": []
  },
  {
   "cell_type": "code",
   "execution_count": null,
   "id": "13a18fe9-a64f-4ebe-9199-9bfd545dea32",
   "metadata": {},
   "outputs": [],
   "source": []
  }
 ],
 "metadata": {
  "kernelspec": {
   "display_name": "Python 3 (ipykernel)",
   "language": "python",
   "name": "python3"
  },
  "language_info": {
   "codemirror_mode": {
    "name": "ipython",
    "version": 3
   },
   "file_extension": ".py",
   "mimetype": "text/x-python",
   "name": "python",
   "nbconvert_exporter": "python",
   "pygments_lexer": "ipython3",
   "version": "3.9.18"
  }
 },
 "nbformat": 4,
 "nbformat_minor": 5
}
